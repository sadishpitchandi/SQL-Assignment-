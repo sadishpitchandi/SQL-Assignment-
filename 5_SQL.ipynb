{
  "nbformat": 4,
  "nbformat_minor": 0,
  "metadata": {
    "colab": {
      "provenance": []
    },
    "kernelspec": {
      "name": "python3",
      "display_name": "Python 3"
    },
    "language_info": {
      "name": "python"
    }
  },
  "cells": [
    {
      "cell_type": "code",
      "execution_count": null,
      "metadata": {
        "id": "w5auKr7k8I3X"
      },
      "outputs": [],
      "source": [
        "1. Write an SQL query to print details of workers excluding first names, “Vipul” and “Satish” from Worker table.\n",
        "\n",
        "Select * from Worker where FIRST_NAME not in ('Vipul','Satish');"
      ]
    },
    {
      "cell_type": "code",
      "source": [
        "2. Write an SQL query to print details of the Workers whose FIRST_NAME ends with ‘h’ and contains six alphabets\n",
        "\n",
        "Select * from Worker where FIRST_NAME like '_____h';"
      ],
      "metadata": {
        "id": "S56paaXi8f8P"
      },
      "execution_count": null,
      "outputs": []
    },
    {
      "cell_type": "code",
      "source": [
        "3. Write a query to validate Email of Employee.\n",
        "\n",
        "SELECT * FROM worker WHERE emailid NOT LIKE '[0-9a-zA-Z]%@%.%'"
      ],
      "metadata": {
        "id": "g_cyqIQn8mgB"
      },
      "execution_count": null,
      "outputs": []
    }
  ]
}