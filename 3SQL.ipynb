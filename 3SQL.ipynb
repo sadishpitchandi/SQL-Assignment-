{
  "nbformat": 4,
  "nbformat_minor": 0,
  "metadata": {
    "colab": {
      "provenance": []
    },
    "kernelspec": {
      "name": "python3",
      "display_name": "Python 3"
    },
    "language_info": {
      "name": "python"
    }
  },
  "cells": [
    {
      "cell_type": "code",
      "execution_count": null,
      "metadata": {
        "id": "PmZqJMByyRKe"
      },
      "outputs": [],
      "source": [
        "1. Write an SQL query to print the FIRST_NAME from Worker table after removing white spaces from the right side\n",
        "\n",
        "SELECT RTRIM(FIRST_NAME) FROM worker;\n",
        "\n"
      ]
    },
    {
      "cell_type": "code",
      "source": [
        "2. Write an SQL query that fetches the unique values of DEPARTMENT from Worker table and prints its length.\n",
        "\n",
        "SELECT DISTINCT DEPARTMENT, LENGTH(DEPARTMENT) AS departmentNameLength FROM worker;"
      ],
      "metadata": {
        "id": "MaeXibIMy0O6"
      },
      "execution_count": null,
      "outputs": []
    },
    {
      "cell_type": "code",
      "source": [
        "3. Write an SQL query to fetch nth max salaries from a table.\n",
        "\n",
        "SELECT Salary FROM Worker ORDER BY Salary DESC LIMIT 5,1;\n",
        "\n",
        "where n = 5\n",
        "\n",
        "OR\n",
        "\n",
        "SELECT SAL FROM( SELECT ROWNUM SLNO,SAL FROM (SELECT DISTINCT SAL FROM EMP ORDER BY SAL DESC)) WHERE SLNO=5;"
      ],
      "metadata": {
        "id": "vN4Oj9dy0LSc"
      },
      "execution_count": null,
      "outputs": []
    }
  ]
}