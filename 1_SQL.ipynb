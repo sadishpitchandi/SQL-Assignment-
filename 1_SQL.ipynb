{
  "nbformat": 4,
  "nbformat_minor": 0,
  "metadata": {
    "colab": {
      "provenance": []
    },
    "kernelspec": {
      "name": "python3",
      "display_name": "Python 3"
    },
    "language_info": {
      "name": "python"
    }
  },
  "cells": [
    {
      "cell_type": "markdown",
      "source": [
        "1. Write an SQL query to fetch “FIRST_NAME” from Worker table using the alias name as <WORKER_NAME>.\n",
        "\n",
        "SELECT FIRST_NAME AS WORKER_NAME FROM worker;"
      ],
      "metadata": {
        "id": "DZuFJduNaEsY"
      }
    },
    {
      "cell_type": "markdown",
      "source": [
        "2. Write an SQL query to fetch unique values of DEPARTMENT from Worker table.\n",
        "Answer:\n",
        "\n",
        "SELECT distinct(Department) from worker;"
      ],
      "metadata": {
        "id": "jV9d4o4-avss"
      }
    },
    {
      "cell_type": "markdown",
      "source": [
        "3. Write an SQL query to show the last 5 record from a table.\n",
        "Answer:\n",
        "\n",
        "(SELECT * FROM TableName ORDER BY column_name DESC LIMIT 5) ORDER BY column_name ASC;"
      ],
      "metadata": {
        "id": "efT313esavvD"
      }
    }
  ]
}