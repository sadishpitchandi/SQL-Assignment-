{
  "nbformat": 4,
  "nbformat_minor": 0,
  "metadata": {
    "colab": {
      "provenance": []
    },
    "kernelspec": {
      "name": "python3",
      "display_name": "Python 3"
    },
    "language_info": {
      "name": "python"
    }
  },
  "cells": [
    {
      "cell_type": "code",
      "execution_count": null,
      "metadata": {
        "id": "CxMhT7Y-54Fx"
      },
      "outputs": [],
      "source": [
        "1. Write an SQL query to print the FIRST_NAME from Worker table after replacing ‘a’ with ‘A’.\n",
        "\n",
        "SELECT REPLACE(first_name, \"a\", \"A\") FROM worker;"
      ]
    },
    {
      "cell_type": "code",
      "source": [
        "2. Write an SQL query to print all Worker details from the Worker table order by FIRST_NAME Ascending and DEPARTMENT Descending.\n",
        "\n",
        "SELECT * FROM worker ORDER BY first_name ASC, department DESC;"
      ],
      "metadata": {
        "id": "rnpv23bd6-PI"
      },
      "execution_count": null,
      "outputs": []
    },
    {
      "cell_type": "code",
      "source": [
        "3. Write an SQL query to fetch the names of workers who earn the highest salary.\n",
        "\n",
        "SELECT FIRST_NAME, SALARY from Worker WHERE SALARY=(SELECT max(SALARY) from Worker);"
      ],
      "metadata": {
        "id": "BVqxZLZP7E7P"
      },
      "execution_count": null,
      "outputs": []
    }
  ]
}