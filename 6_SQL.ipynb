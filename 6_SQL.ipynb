{
  "nbformat": 4,
  "nbformat_minor": 0,
  "metadata": {
    "colab": {
      "provenance": []
    },
    "kernelspec": {
      "name": "python3",
      "display_name": "Python 3"
    },
    "language_info": {
      "name": "python"
    }
  },
  "cells": [
    {
      "cell_type": "code",
      "execution_count": null,
      "metadata": {
        "id": "-BoELs-55FX3"
      },
      "outputs": [],
      "source": [
        "1. Write an SQL query`m to print details of the Workers who have joined in Feb’2014.\n",
        "\n",
        "Select * from Worker where year(DateOfJoining) = 2014 and month(DateOfJoining) = 2;\n",
        "\n",
        "OR\n",
        "\n",
        "select * from worker where hire_date between '2014-02-01' and '2014-02-28' order by hire_date;"
      ]
    },
    {
      "cell_type": "code",
      "source": [
        "2. Write an SQL query to fetch duplicate records having matching data in some fields of a table.\n",
        "\n",
        "SELECT gender, department, COUNT() FROM worker GROUP BY gender, department HAVING COUNT() > 1;"
      ],
      "metadata": {
        "id": "nwzxn5Gd5k2j"
      },
      "execution_count": null,
      "outputs": []
    },
    {
      "cell_type": "code",
      "source": [
        "3. How to remove duplicate rows from worker table.\n",
        "\n",
        "DELETE c1 FROM worker c1\n",
        "INNER JOIN worker c2\n",
        "WHERE\n",
        "c1.salary > c2.salary AND\n",
        "c1.LAST_NAME = c2.LAST_NAME"
      ],
      "metadata": {
        "id": "WgQ0_fAy5rl7"
      },
      "execution_count": null,
      "outputs": []
    }
  ]
}