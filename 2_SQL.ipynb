{
  "nbformat": 4,
  "nbformat_minor": 0,
  "metadata": {
    "colab": {
      "provenance": []
    },
    "kernelspec": {
      "name": "python3",
      "display_name": "Python 3"
    },
    "language_info": {
      "name": "python"
    }
  },
  "cells": [
    {
      "cell_type": "markdown",
      "source": [
        "1. Write an SQL query to print the first three characters of FIRST_NAME from Worker table.\n",
        "Answer:\n",
        "\n",
        "SELECT SUBSTRING(FIRST_NAME,1,3) FROM worker;"
      ],
      "metadata": {
        "id": "DZuFJduNaEsY"
      }
    },
    {
      "cell_type": "markdown",
      "source": [
        "2. Write an SQL query to find the position of the alphabet (‘a’) in the first name column ‘Amitabh’ from Worker table.\n",
        "Answer:\n",
        "\n",
        "SELECT POSITION(\"a\" IN first_name) FROM worker WHERE first_name = \"Amitabh\";"
      ],
      "metadata": {
        "id": "jV9d4o4-avss"
      }
    },
    {
      "cell_type": "markdown",
      "source": [
        "3. Write an SQL query to print the name of employees having the highest salary in each department.\n",
        "Answer:\n",
        "\n",
        "SELECT\n",
        "where w.department = s.department and w.salary = s.salary;\n",
        "\n",
        "select * from worker order by salary desc:\n",
        "4 Amitabh Singh 500000 2014-02-20 09:00:00 Admin\n",
        "5 Vivek Bhati 500000 2014-06-11 09:00:00 Admin\n",
        "3 Vishal Singhal 300000 2014-02-20 09:00:00 HR\n",
        "6 Vipul Diwan 200000 2014-06-11 09:00:00 Account\n",
        "1 Monika Arora 100000 2014-02-20 09:00:00 HR\n",
        "8 Geetika Chauhan 90000 2014-04-11 09:00:00 Admin\n",
        "2 Niharika Verma 80000 2014-06-11 09:00:00 Admin\n",
        "7 Satish Kumar 75000 2014-01-20 09:00:00 Account\n",
        "\n",
        "Output of answer given above:\n",
        "HR Vishal\n",
        "Admin Amitabh\n",
        "Admin Vivek\n",
        "Account Vipul\n",
        "\n",
        "*NOTE: both Amitabh and Vivek have 500000 salary which is highest in Admin department"
      ],
      "metadata": {
        "id": "efT313esavvD"
      }
    },
    {
      "cell_type": "code",
      "source": [],
      "metadata": {
        "id": "9ZFbSFrAc5hT"
      },
      "execution_count": null,
      "outputs": []
    }
  ]
}